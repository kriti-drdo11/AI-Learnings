{
 "cells": [
  {
   "cell_type": "code",
   "execution_count": 1,
   "id": "731bd0d4-48ac-40d5-b235-cd80c75b059a",
   "metadata": {},
   "outputs": [],
   "source": [
    "import cv2\n",
    "import numpy as np\n",
    "import matplotlib.pyplot as plt"
   ]
  },
  {
   "cell_type": "code",
   "execution_count": 5,
   "id": "af831c34-56d8-478b-8c53-0e75b7ffcd22",
   "metadata": {},
   "outputs": [],
   "source": [
    "image = cv2.imread('images/lenna.png')\n",
    "#store height and width of image\n",
    "height , width = image.shape[:2]\n",
    "\n",
    "qut_height , qut_width = height/4 , width/4\n",
    "\n",
    "T = np.float32([[1,0,qut_width],[0,1,qut_height]])\n",
    "img_transl = cv2.warpAffine(image,T ,(width, height))"
   ]
  },
  {
   "cell_type": "code",
   "execution_count": 6,
   "id": "94974ead-4a1f-4188-924a-209b56d37573",
   "metadata": {},
   "outputs": [
    {
     "data": {
      "text/plain": [
       "array([[  1.,   0., 128.],\n",
       "       [  0.,   1., 128.]], dtype=float32)"
      ]
     },
     "execution_count": 6,
     "metadata": {},
     "output_type": "execute_result"
    }
   ],
   "source": [
    "T"
   ]
  },
  {
   "cell_type": "code",
   "execution_count": 8,
   "id": "c43c39dd-b260-4315-82bf-3aa8851e1c85",
   "metadata": {},
   "outputs": [],
   "source": [
    "cv2.imshow('original',image)\n",
    "cv2.imshow('translated',img_transl)\n",
    "cv2.waitKey(0)\n",
    "cv2.destroyAllWindows()"
   ]
  },
  {
   "cell_type": "code",
   "execution_count": 10,
   "id": "0e1fd3cd-69cc-4842-8592-6b09db61cd7d",
   "metadata": {},
   "outputs": [],
   "source": [
    "T = np.float32([[1,0,-40],[0,1,-100]])\n",
    "img_transl = cv2.warpAffine(image,T ,(width, height))\n",
    "cv2.imshow('original',image)\n",
    "cv2.imshow('translated',img_transl)\n",
    "cv2.waitKey(0)\n",
    "cv2.destroyAllWindows()"
   ]
  },
  {
   "cell_type": "code",
   "execution_count": 11,
   "id": "e0a10037-d52f-468b-a6f3-54a2d94a1238",
   "metadata": {},
   "outputs": [],
   "source": [
    "T = np.float32([[1,0,40],[0,1,100]])\n",
    "img_transl = cv2.warpAffine(image,T ,(width+100, height+100))\n",
    "cv2.imshow('original',image)\n",
    "cv2.imshow('translated',img_transl)\n",
    "cv2.waitKey(0)\n",
    "cv2.destroyAllWindows()"
   ]
  },
  {
   "cell_type": "code",
   "execution_count": null,
   "id": "06a18959-33c7-4072-a64f-9d875d962113",
   "metadata": {},
   "outputs": [],
   "source": []
  }
 ],
 "metadata": {
  "kernelspec": {
   "display_name": "Python 3 (ipykernel)",
   "language": "python",
   "name": "python3"
  },
  "language_info": {
   "codemirror_mode": {
    "name": "ipython",
    "version": 3
   },
   "file_extension": ".py",
   "mimetype": "text/x-python",
   "name": "python",
   "nbconvert_exporter": "python",
   "pygments_lexer": "ipython3",
   "version": "3.11.7"
  }
 },
 "nbformat": 4,
 "nbformat_minor": 5
}
